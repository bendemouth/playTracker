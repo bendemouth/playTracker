{
    "metadata": {
        "kernelspec": {
            "name": "SQL",
            "display_name": "SQL",
            "language": "sql"
        },
        "language_info": {
            "name": "sql",
            "version": ""
        }
    },
    "nbformat_minor": 2,
    "nbformat": 4,
    "cells": [
        {
            "cell_type": "markdown",
            "source": [
                ""
            ],
            "metadata": {
                "azdata_cell_guid": "c2651aae-794c-4501-90cd-e73faf377b93"
            }
        },
        {
            "cell_type": "code",
            "source": [
                "SELECT name, type_desc, authentication_type_desc\r\n",
                "FROM sys.database_principals;"
            ],
            "metadata": {
                "azdata_cell_guid": "9105181b-748b-4210-8f40-8f6a93673fa0",
                "language": "sql"
            },
            "outputs": [
                {
                    "output_type": "display_data",
                    "data": {
                        "text/html": "(15 rows affected)"
                    },
                    "metadata": {}
                },
                {
                    "output_type": "display_data",
                    "data": {
                        "text/html": "Total execution time: 00:00:00.039"
                    },
                    "metadata": {}
                },
                {
                    "output_type": "execute_result",
                    "metadata": {},
                    "execution_count": 6,
                    "data": {
                        "application/vnd.dataresource+json": {
                            "schema": {
                                "fields": [
                                    {
                                        "name": "name"
                                    },
                                    {
                                        "name": "type_desc"
                                    },
                                    {
                                        "name": "authentication_type_desc"
                                    }
                                ]
                            },
                            "data": [
                                {
                                    "name": "public",
                                    "type_desc": "DATABASE_ROLE",
                                    "authentication_type_desc": "NONE"
                                },
                                {
                                    "name": "dbo",
                                    "type_desc": "SQL_USER",
                                    "authentication_type_desc": "INSTANCE"
                                },
                                {
                                    "name": "guest",
                                    "type_desc": "SQL_USER",
                                    "authentication_type_desc": "NONE"
                                },
                                {
                                    "name": "INFORMATION_SCHEMA",
                                    "type_desc": "SQL_USER",
                                    "authentication_type_desc": "NONE"
                                },
                                {
                                    "name": "sys",
                                    "type_desc": "SQL_USER",
                                    "authentication_type_desc": "NONE"
                                },
                                {
                                    "name": "bestfitsportsdata_gmail.com#EXT#@bestfitsportsdatagmail.onmicrosoft.com",
                                    "type_desc": "EXTERNAL_USER",
                                    "authentication_type_desc": "EXTERNAL"
                                },
                                {
                                    "name": "db_owner",
                                    "type_desc": "DATABASE_ROLE",
                                    "authentication_type_desc": "NONE"
                                },
                                {
                                    "name": "db_accessadmin",
                                    "type_desc": "DATABASE_ROLE",
                                    "authentication_type_desc": "NONE"
                                },
                                {
                                    "name": "db_securityadmin",
                                    "type_desc": "DATABASE_ROLE",
                                    "authentication_type_desc": "NONE"
                                },
                                {
                                    "name": "db_ddladmin",
                                    "type_desc": "DATABASE_ROLE",
                                    "authentication_type_desc": "NONE"
                                },
                                {
                                    "name": "db_backupoperator",
                                    "type_desc": "DATABASE_ROLE",
                                    "authentication_type_desc": "NONE"
                                },
                                {
                                    "name": "db_datareader",
                                    "type_desc": "DATABASE_ROLE",
                                    "authentication_type_desc": "NONE"
                                },
                                {
                                    "name": "db_datawriter",
                                    "type_desc": "DATABASE_ROLE",
                                    "authentication_type_desc": "NONE"
                                },
                                {
                                    "name": "db_denydatareader",
                                    "type_desc": "DATABASE_ROLE",
                                    "authentication_type_desc": "NONE"
                                },
                                {
                                    "name": "db_denydatawriter",
                                    "type_desc": "DATABASE_ROLE",
                                    "authentication_type_desc": "NONE"
                                }
                            ]
                        },
                        "text/html": [
                            "<table>",
                            "<tr><th>name</th><th>type_desc</th><th>authentication_type_desc</th></tr>",
                            "<tr><td>public</td><td>DATABASE_ROLE</td><td>NONE</td></tr>",
                            "<tr><td>dbo</td><td>SQL_USER</td><td>INSTANCE</td></tr>",
                            "<tr><td>guest</td><td>SQL_USER</td><td>NONE</td></tr>",
                            "<tr><td>INFORMATION_SCHEMA</td><td>SQL_USER</td><td>NONE</td></tr>",
                            "<tr><td>sys</td><td>SQL_USER</td><td>NONE</td></tr>",
                            "<tr><td>bestfitsportsdata_gmail.com#EXT#@bestfitsportsdatagmail.onmicrosoft.com</td><td>EXTERNAL_USER</td><td>EXTERNAL</td></tr>",
                            "<tr><td>db_owner</td><td>DATABASE_ROLE</td><td>NONE</td></tr>",
                            "<tr><td>db_accessadmin</td><td>DATABASE_ROLE</td><td>NONE</td></tr>",
                            "<tr><td>db_securityadmin</td><td>DATABASE_ROLE</td><td>NONE</td></tr>",
                            "<tr><td>db_ddladmin</td><td>DATABASE_ROLE</td><td>NONE</td></tr>",
                            "<tr><td>db_backupoperator</td><td>DATABASE_ROLE</td><td>NONE</td></tr>",
                            "<tr><td>db_datareader</td><td>DATABASE_ROLE</td><td>NONE</td></tr>",
                            "<tr><td>db_datawriter</td><td>DATABASE_ROLE</td><td>NONE</td></tr>",
                            "<tr><td>db_denydatareader</td><td>DATABASE_ROLE</td><td>NONE</td></tr>",
                            "<tr><td>db_denydatawriter</td><td>DATABASE_ROLE</td><td>NONE</td></tr>",
                            "</table>"
                        ]
                    }
                }
            ],
            "execution_count": 6
        }
    ]
}